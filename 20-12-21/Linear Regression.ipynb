{
 "cells": [
  {
   "cell_type": "code",
   "execution_count": 1,
   "metadata": {},
   "outputs": [],
   "source": [
    "import pandas as pd\n",
    "import matplotlib.pyplot as plt"
   ]
  },
  {
   "cell_type": "code",
   "execution_count": 2,
   "metadata": {},
   "outputs": [],
   "source": [
    "df = pd.read_csv('../data/food_truck_data.csv', header=None)"
   ]
  },
  {
   "cell_type": "code",
   "execution_count": 3,
   "metadata": {},
   "outputs": [
    {
     "data": {
      "text/html": [
       "<div>\n",
       "<style scoped>\n",
       "    .dataframe tbody tr th:only-of-type {\n",
       "        vertical-align: middle;\n",
       "    }\n",
       "\n",
       "    .dataframe tbody tr th {\n",
       "        vertical-align: top;\n",
       "    }\n",
       "\n",
       "    .dataframe thead th {\n",
       "        text-align: right;\n",
       "    }\n",
       "</style>\n",
       "<table border=\"1\" class=\"dataframe\">\n",
       "  <thead>\n",
       "    <tr style=\"text-align: right;\">\n",
       "      <th></th>\n",
       "      <th>0</th>\n",
       "      <th>1</th>\n",
       "    </tr>\n",
       "  </thead>\n",
       "  <tbody>\n",
       "    <tr>\n",
       "      <td>0</td>\n",
       "      <td>6.1101</td>\n",
       "      <td>17.5920</td>\n",
       "    </tr>\n",
       "    <tr>\n",
       "      <td>1</td>\n",
       "      <td>5.5277</td>\n",
       "      <td>9.1302</td>\n",
       "    </tr>\n",
       "    <tr>\n",
       "      <td>2</td>\n",
       "      <td>8.5186</td>\n",
       "      <td>13.6620</td>\n",
       "    </tr>\n",
       "    <tr>\n",
       "      <td>3</td>\n",
       "      <td>7.0032</td>\n",
       "      <td>11.8540</td>\n",
       "    </tr>\n",
       "    <tr>\n",
       "      <td>4</td>\n",
       "      <td>5.8598</td>\n",
       "      <td>6.8233</td>\n",
       "    </tr>\n",
       "  </tbody>\n",
       "</table>\n",
       "</div>"
      ],
      "text/plain": [
       "        0        1\n",
       "0  6.1101  17.5920\n",
       "1  5.5277   9.1302\n",
       "2  8.5186  13.6620\n",
       "3  7.0032  11.8540\n",
       "4  5.8598   6.8233"
      ]
     },
     "execution_count": 3,
     "metadata": {},
     "output_type": "execute_result"
    }
   ],
   "source": [
    "df.head()"
   ]
  },
  {
   "cell_type": "code",
   "execution_count": 4,
   "metadata": {},
   "outputs": [],
   "source": [
    "X = list(df[0])\n",
    "Y = list(df[1])"
   ]
  },
  {
   "cell_type": "code",
   "execution_count": 5,
   "metadata": {},
   "outputs": [],
   "source": [
    "def plot_line(x, y, color=\"blue\"):\n",
    "    plt.xlabel('population')\n",
    "    plt.ylabel('profit')\n",
    "    plt.plot(x,y,color)\n",
    "    plt.show()"
   ]
  },
  {
   "cell_type": "code",
   "execution_count": 6,
   "metadata": {},
   "outputs": [],
   "source": [
    "def evaluate_fit(y, y_mean, y_pred, n):\n",
    "    '''\n",
    "    desc : function eto valuate the line fit by\n",
    "        calculating the coeff of determination\n",
    "    '''\n",
    "    sse  = 0 #sum of squared errors\n",
    "    ssr = 0 #sum of squared residuals\n",
    "    sst = 0 #sum of squared total S.S.T = S.S.R + S.S.E\n",
    "    r_sq = 0 #r^2 or coeff of determination\n",
    "    \n",
    "    for i in range(n):\n",
    "        sse += (y[i] - y_pred[i]) ** 2\n",
    "        ssr += (y[i] - y_mean) ** 2\n",
    "    \n",
    "    sst = sse + ssr\n",
    "    \n",
    "    r_sq = 1 - (sse / sst)\n",
    "    \n",
    "    return sse, ssr, sst, r_sq"
   ]
  },
  {
   "cell_type": "code",
   "execution_count": 7,
   "metadata": {},
   "outputs": [],
   "source": [
    "x_sum, y_sum, xy_sum, x2_sum, y2_sum = 0, 0, 0, 0, 0\n",
    "n = len(X)\n",
    "\n",
    "for x,y in zip(X,Y):\n",
    "    x_sum += x\n",
    "    y_sum += y\n",
    "    xy_sum += (x*y)\n",
    "    x2_sum += (x ** 2)\n",
    "    y2_sum += (y ** 2)\n",
    "\n",
    "x_mean = x_sum/n\n",
    "y_mean = y_sum/n"
   ]
  },
  {
   "cell_type": "code",
   "execution_count": 8,
   "metadata": {},
   "outputs": [],
   "source": [
    "x_std, y_std = 0, 0 #standard deviations\n",
    "\n",
    "for x,y in zip(X,Y):\n",
    "    x_std += ((x - x_mean) ** 2)\n",
    "    y_std += ((y - y_mean) ** 2)\n",
    "\n",
    "x_std = (x_std/n) ** 0.5\n",
    "y_std = (y_std/n) ** 0.5"
   ]
  },
  {
   "cell_type": "code",
   "execution_count": 9,
   "metadata": {},
   "outputs": [
    {
     "data": {
      "text/plain": [
       "0.9040642647654091"
      ]
     },
     "execution_count": 9,
     "metadata": {},
     "output_type": "execute_result"
    }
   ],
   "source": [
    "#coeff of regression\n",
    "r = xy_sum/((x2_sum*y2_sum) ** 0.5)\n",
    "r"
   ]
  },
  {
   "cell_type": "code",
   "execution_count": 10,
   "metadata": {},
   "outputs": [],
   "source": [
    "#slope\n",
    "m = r * (y_std/x_std)"
   ]
  },
  {
   "cell_type": "code",
   "execution_count": 11,
   "metadata": {},
   "outputs": [],
   "source": [
    "#intercept\n",
    "c = y_mean - (m*x_mean)"
   ]
  },
  {
   "cell_type": "code",
   "execution_count": 12,
   "metadata": {},
   "outputs": [],
   "source": [
    "#make a prediction\n",
    "y_pred = []\n",
    "\n",
    "for x in X:\n",
    "    y_pred.append(m*x + c) #Y = mX + c"
   ]
  },
  {
   "cell_type": "code",
   "execution_count": 13,
   "metadata": {},
   "outputs": [
    {
     "data": {
      "image/png": "[encoded data removed]",
      "text/plain": [
       "<Figure size 432x288 with 1 Axes>"
      ]
     },
     "metadata": {
      "needs_background": "light"
     },
     "output_type": "display_data"
    }
   ],
   "source": [
    "plt.scatter(X,Y, color=\"black\")\n",
    "plot_line(X, y_pred, color=\"red\")"
   ]
  },
  {
   "cell_type": "code",
   "execution_count": 14,
   "metadata": {},
   "outputs": [
    {
     "name": "stdout",
     "output_type": "stream",
     "text": [
      "Coeff of determination is 0.7678429232908197 or 76.78429232908198%\n"
     ]
    }
   ],
   "source": [
    "#Evaluation of fit: calculate R^2 value\n",
    "_, _, _, r2_val = evaluate_fit(Y, y_mean, y_pred, n)\n",
    "print(f\"Coeff of determination is {r2_val} or {r2_val * 100}%\")"
   ]
  },
  {
   "cell_type": "markdown",
   "metadata": {},
   "source": [
    "### Training a model to find best fit line"
   ]
  },
  {
   "cell_type": "code",
   "execution_count": 15,
   "metadata": {},
   "outputs": [],
   "source": [
    "#Gradient descent algo\n",
    "def gradient_descent(X, Y, m, c, alpha):\n",
    "    '''\n",
    "    desc: Gradient step function\n",
    "    X, Y : data points\n",
    "    m : slope\n",
    "    c : intercept\n",
    "    alpha : learning rate\n",
    "    '''\n",
    "    y_pred = []\n",
    "    for x in X:\n",
    "        y_pred.append(m*x + c)\n",
    "    \n",
    "    m_grad = 0\n",
    "    c_grad = 0\n",
    "    #calculate gradients\n",
    "    for i, (x, y) in enumerate(zip(X,Y)):\n",
    "        m_grad += -(2 / n) * x * (y - y_pred[i])\n",
    "        c_grad += -(2 / n) * (y - y_pred[i])\n",
    "    \n",
    "    #update slope and intercept\n",
    "    m -= (alpha * m_grad)\n",
    "    c -= (alpha * c_grad)\n",
    "    \n",
    "    return m, c, y_pred"
   ]
  },
  {
   "cell_type": "code",
   "execution_count": 16,
   "metadata": {},
   "outputs": [],
   "source": [
    "#Train a learner to calc best fit line\n",
    "def train_to_fit(X, Y, m, c, alpha, iterr=50):\n",
    "    preds = []\n",
    "    for _ in range(iterr):\n",
    "        m, c, preds = gradient_descent(X, Y, m, c, alpha)\n",
    "    \n",
    "    return preds"
   ]
  },
  {
   "cell_type": "code",
   "execution_count": 17,
   "metadata": {},
   "outputs": [],
   "source": [
    "#training setup\n",
    "lr = 0.0001 #learning rate\n",
    "maxiterr = 10000"
   ]
  },
  {
   "cell_type": "code",
   "execution_count": 18,
   "metadata": {},
   "outputs": [],
   "source": [
    "y_pred = train_to_fit(X, Y, m, c, alpha=lr, iterr=maxiterr)"
   ]
  },
  {
   "cell_type": "code",
   "execution_count": 19,
   "metadata": {},
   "outputs": [
    {
     "data": {
      "text/plain": [
       "[3.186220147908836,\n",
       " 2.459951329107138,\n",
       " 6.1896858932451835,\n",
       " 4.299940412455189,\n",
       " 2.87408916345474,\n",
       " 6.020464260842383,\n",
       " 4.890033827731569,\n",
       " 6.263884029781414,\n",
       " 3.6552271924681055,\n",
       " 1.8699826165812388]"
      ]
     },
     "execution_count": 19,
     "metadata": {},
     "output_type": "execute_result"
    }
   ],
   "source": [
    "y_pred[:10]"
   ]
  },
  {
   "cell_type": "code",
   "execution_count": 20,
   "metadata": {},
   "outputs": [
    {
     "data": {
      "image/png": "[encoded data removed]",
      "text/plain": [
       "<Figure size 432x288 with 1 Axes>"
      ]
     },
     "metadata": {
      "needs_background": "light"
     },
     "output_type": "display_data"
    }
   ],
   "source": [
    "plt.scatter(X,Y, color=\"black\")\n",
    "plot_line(X, y_pred, color=\"red\")"
   ]
  },
  {
   "cell_type": "code",
   "execution_count": 21,
   "metadata": {},
   "outputs": [
    {
     "name": "stdout",
     "output_type": "stream",
     "text": [
      "Coeff of determination is 0.7693972323283584 or 76.93972323283585%\n"
     ]
    }
   ],
   "source": [
    "_, _, _, r2_val = evaluate_fit(Y, y_mean, y_pred, n)\n",
    "print(f\"Coeff of determination is {r2_val} or {r2_val * 100}%\")"
   ]
  }
 ],
 "metadata": {
  "kernelspec": {
   "display_name": "Python 3",
   "language": "python",
   "name": "python3"
  },
  "language_info": {
   "codemirror_mode": {
    "name": "ipython",
    "version": 3
   },
   "file_extension": ".py",
   "mimetype": "text/x-python",
   "name": "python",
   "nbconvert_exporter": "python",
   "pygments_lexer": "ipython3",
   "version": "3.7.4"
  }
 },
 "nbformat": 4,
 "nbformat_minor": 5
}
