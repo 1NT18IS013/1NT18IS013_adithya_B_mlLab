{
 "cells": [
  {
   "cell_type": "code",
   "execution_count": 1,
   "id": "c66370bf",
   "metadata": {},
   "outputs": [],
   "source": [
    "import pandas as pd\n",
    "import matplotlib.pyplot as plt"
   ]
  },
  {
   "cell_type": "code",
   "execution_count": 2,
   "id": "32ae7eff",
   "metadata": {},
   "outputs": [],
   "source": [
    "df = pd.read_csv('../data/food_truck_data.csv', header=None)"
   ]
  },
  {
   "cell_type": "code",
   "execution_count": 3,
   "id": "b5506522",
   "metadata": {},
   "outputs": [
    {
     "data": {
      "text/html": [
       "<div>\n",
       "<style scoped>\n",
       "    .dataframe tbody tr th:only-of-type {\n",
       "        vertical-align: middle;\n",
       "    }\n",
       "\n",
       "    .dataframe tbody tr th {\n",
       "        vertical-align: top;\n",
       "    }\n",
       "\n",
       "    .dataframe thead th {\n",
       "        text-align: right;\n",
       "    }\n",
       "</style>\n",
       "<table border=\"1\" class=\"dataframe\">\n",
       "  <thead>\n",
       "    <tr style=\"text-align: right;\">\n",
       "      <th></th>\n",
       "      <th>0</th>\n",
       "      <th>1</th>\n",
       "    </tr>\n",
       "  </thead>\n",
       "  <tbody>\n",
       "    <tr>\n",
       "      <th>0</th>\n",
       "      <td>6.1101</td>\n",
       "      <td>17.5920</td>\n",
       "    </tr>\n",
       "    <tr>\n",
       "      <th>1</th>\n",
       "      <td>5.5277</td>\n",
       "      <td>9.1302</td>\n",
       "    </tr>\n",
       "    <tr>\n",
       "      <th>2</th>\n",
       "      <td>8.5186</td>\n",
       "      <td>13.6620</td>\n",
       "    </tr>\n",
       "    <tr>\n",
       "      <th>3</th>\n",
       "      <td>7.0032</td>\n",
       "      <td>11.8540</td>\n",
       "    </tr>\n",
       "    <tr>\n",
       "      <th>4</th>\n",
       "      <td>5.8598</td>\n",
       "      <td>6.8233</td>\n",
       "    </tr>\n",
       "  </tbody>\n",
       "</table>\n",
       "</div>"
      ],
      "text/plain": [
       "        0        1\n",
       "0  6.1101  17.5920\n",
       "1  5.5277   9.1302\n",
       "2  8.5186  13.6620\n",
       "3  7.0032  11.8540\n",
       "4  5.8598   6.8233"
      ]
     },
     "execution_count": 3,
     "metadata": {},
     "output_type": "execute_result"
    }
   ],
   "source": [
    "df.head()"
   ]
  },
  {
   "cell_type": "code",
   "execution_count": 4,
   "id": "b87edca7",
   "metadata": {},
   "outputs": [],
   "source": [
    "X = list(df[0])\n",
    "Y = list(df[1])"
   ]
  },
  {
   "cell_type": "code",
   "execution_count": 18,
   "id": "8d175452",
   "metadata": {},
   "outputs": [],
   "source": [
    "def plot_line(x, y, color=\"blue\"):\n",
    "    plt.xlabel('population')\n",
    "    plt.ylabel('profit')\n",
    "    plt.plot(x,y,color)\n",
    "    plt.show()"
   ]
  },
  {
   "cell_type": "code",
   "execution_count": 7,
   "id": "7b954076",
   "metadata": {},
   "outputs": [],
   "source": [
    "x_sum, y_sum, xy_sum, x2_sum, y2_sum = 0, 0, 0, 0, 0\n",
    "n = len(X)\n",
    "\n",
    "for x,y in zip(X,Y):\n",
    "    x_sum += x\n",
    "    y_sum += y\n",
    "    xy_sum += (x*y)\n",
    "    x2_sum += x ** 2\n",
    "    y2_sum += y ** 2\n",
    "\n",
    "x_mean = x_sum/n\n",
    "y_mean = y_sum/n"
   ]
  },
  {
   "cell_type": "code",
   "execution_count": 9,
   "id": "bea1d741",
   "metadata": {},
   "outputs": [],
   "source": [
    "x_std, y_std = 0, 0 #standard deviations\n",
    "\n",
    "for x,y in zip(X,Y):\n",
    "    x_std += (x - x_mean) ** 2\n",
    "    y_std += (y - y_mean) ** 2\n",
    "\n",
    "x_std = (x_std/n) ** 0.5\n",
    "y_std = (y_std/n) ** 0.5"
   ]
  },
  {
   "cell_type": "code",
   "execution_count": 10,
   "id": "2aa4fa64",
   "metadata": {},
   "outputs": [],
   "source": [
    "#coeff of regression\n",
    "r = xy_sum/(x2_sum*y2_sum)"
   ]
  },
  {
   "cell_type": "code",
   "execution_count": 12,
   "id": "4d481423",
   "metadata": {},
   "outputs": [],
   "source": [
    "#slope\n",
    "m = r * (x_std/y_std)"
   ]
  },
  {
   "cell_type": "code",
   "execution_count": 13,
   "id": "30dfefc4",
   "metadata": {},
   "outputs": [],
   "source": [
    "#intercept\n",
    "c = y_mean - (m*x_mean)"
   ]
  },
  {
   "cell_type": "code",
   "execution_count": 16,
   "id": "2a4512cd",
   "metadata": {},
   "outputs": [],
   "source": [
    "#make a prediction\n",
    "y_pred = []\n",
    "\n",
    "for x in X:\n",
    "    y_pred.append(m*x + c) #Y = mX + c"
   ]
  },
  {
   "cell_type": "code",
   "execution_count": 21,
   "id": "e2f3c44d",
   "metadata": {},
   "outputs": [
    {
     "data": {
      "image/png": "[encoded data removed]",
      "text/plain": [
       "<Figure size 432x288 with 1 Axes>"
      ]
     },
     "metadata": {
      "needs_background": "light"
     },
     "output_type": "display_data"
    }
   ],
   "source": [
    "plt.scatter(X,Y, color=\"black\")\n",
    "plot_line(X, y_pred, color=\"red\")"
   ]
  },
  {
   "cell_type": "markdown",
   "id": "73cef556",
   "metadata": {},
   "source": [
    "### Training a model to find best fit line"
   ]
  },
  {
   "cell_type": "code",
   "execution_count": 22,
   "id": "d5c8b017",
   "metadata": {},
   "outputs": [],
   "source": [
    "#Gradient descent algo\n",
    "def gradient_descent(X, Y, m, c, alpha):\n",
    "    '''\n",
    "    desc: Gradient step function\n",
    "    X, Y : data points\n",
    "    m : slope\n",
    "    c : intercept\n",
    "    alpha : learning rate\n",
    "    '''\n",
    "    y_pred = []\n",
    "    for x in X:\n",
    "        y_pred.append(m*x + c)\n",
    "    \n",
    "    m_grad = 0\n",
    "    c_grad = 0\n",
    "    #calculate gradients\n",
    "    for i, (x, y) in enumerate(zip(X,Y)):\n",
    "        m_grad += -(2 / n) * x * (y - y_pred[i])\n",
    "        c_grad += -(2 / n) * (y - y_pred[i])\n",
    "    \n",
    "    #update slope and intercept\n",
    "    m -= (alpha * m_grad)\n",
    "    c -= (alpha * c_grad)\n",
    "    \n",
    "    return m, c, y_pred"
   ]
  },
  {
   "cell_type": "code",
   "execution_count": 23,
   "id": "aad2556e",
   "metadata": {},
   "outputs": [],
   "source": [
    "#Train a learner to calc best fit line\n",
    "def train_to_fit(X, Y, m, c, alpha, iterr=50):\n",
    "    preds = []\n",
    "    for _ in range(iterr):\n",
    "        m, c, preds = gradient_descent(X, Y, m, c, alpha)\n",
    "    \n",
    "    return preds"
   ]
  },
  {
   "cell_type": "code",
   "execution_count": 29,
   "id": "df9b7298",
   "metadata": {},
   "outputs": [],
   "source": [
    "#training setup\n",
    "lr = 0.001 #learning rate\n",
    "maxiterr = 10000"
   ]
  },
  {
   "cell_type": "code",
   "execution_count": 30,
   "id": "e561a8ab",
   "metadata": {},
   "outputs": [],
   "source": [
    "y_pred = train_to_fit(X, Y, m, c, alpha=lr, iterr=maxiterr)"
   ]
  },
  {
   "cell_type": "code",
   "execution_count": 31,
   "id": "0cf9a85e",
   "metadata": {},
   "outputs": [
    {
     "data": {
      "text/plain": [
       "[3.4961492644816228,\n",
       " 2.816837121703998,\n",
       " 6.305426901638063,\n",
       " 4.537862304857132,\n",
       " 3.2041990080646596,\n",
       " 6.1471462392498,\n",
       " 5.089803420863953,\n",
       " 6.3748277816093335,\n",
       " 3.9348328099807044,\n",
       " 2.265012645831582]"
      ]
     },
     "execution_count": 31,
     "metadata": {},
     "output_type": "execute_result"
    }
   ],
   "source": [
    "y_pred[:10]"
   ]
  },
  {
   "cell_type": "code",
   "execution_count": 32,
   "id": "5745eed9",
   "metadata": {},
   "outputs": [
    {
     "data": {
      "image/png": "[encoded data removed]",
      "text/plain": [
       "<Figure size 432x288 with 1 Axes>"
      ]
     },
     "metadata": {
      "needs_background": "light"
     },
     "output_type": "display_data"
    }
   ],
   "source": [
    "plt.scatter(X,Y, color=\"black\")\n",
    "plot_line(X, y_pred, color=\"red\")"
   ]
  },
  {
   "cell_type": "code",
   "execution_count": 33,
   "id": "b930b3ac",
   "metadata": {},
   "outputs": [],
   "source": [
    "def evaluate_fit(y, y_mean, y_pred, n):\n",
    "    '''\n",
    "    desc : function eto valuate the line fit by\n",
    "        calculating the coeff of determination\n",
    "    '''\n",
    "    sse  = 0 #sum of squared errors\n",
    "    ssr = 0 #sum of squared residuals\n",
    "    sst = 0 #sum of squared total S.S.T = S.S.R + S.S.E\n",
    "    r_sq = 0 #r^2 or coeff of determination\n",
    "    \n",
    "    for i in range(n):\n",
    "        sse += (y[i] - y_pred[i]) ** 2\n",
    "        ssr += (y[i] - y_mean) ** 2\n",
    "    \n",
    "    sst = sse + ssr\n",
    "    \n",
    "    r_sq = 1 - (sse / sst)\n",
    "    \n",
    "    return sse, ssr, sst, r_sq"
   ]
  },
  {
   "cell_type": "code",
   "execution_count": 34,
   "id": "e3195d99",
   "metadata": {},
   "outputs": [
    {
     "name": "stdout",
     "output_type": "stream",
     "text": [
      "Coeff of determination is 0.7701820750195986 or 77.01820750195985%\n"
     ]
    }
   ],
   "source": [
    "#Evaluation of fit: calculate R^2 value\n",
    "_, _, _, r2_val = evaluate_fit(Y, y_mean, y_pred, n)\n",
    "print(f\"Coeff of determination is {r2_val} or {r2_val * 100}%\")"
   ]
  }
 ],
 "metadata": {
  "kernelspec": {
   "display_name": "Python 3.8.3 64-bit",
   "language": "python",
   "name": "python38364bitcb65a4671be04d848531cb2595383657"
  },
  "language_info": {
   "codemirror_mode": {
    "name": "ipython",
    "version": 3
   },
   "file_extension": ".py",
   "mimetype": "text/x-python",
   "name": "python",
   "nbconvert_exporter": "python",
   "pygments_lexer": "ipython3",
   "version": "3.9.7"
  }
 },
 "nbformat": 4,
 "nbformat_minor": 5
}
