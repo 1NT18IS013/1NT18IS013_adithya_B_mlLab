{
 "cells": [
  {
   "cell_type": "markdown",
   "metadata": {},
   "source": [
    "## Lists"
   ]
  },
  {
   "cell_type": "code",
   "execution_count": 23,
   "metadata": {},
   "outputs": [
    {
     "name": "stdout",
     "output_type": "stream",
     "text": [
      "Enter size of lists : 5\n",
      "Enter elements of first list : \n",
      "1\n",
      "2\n",
      "3\n",
      "4\n",
      "5\n",
      "Enter elements of second list : \n",
      "1\n",
      "2\n",
      "3\n",
      "4\n",
      "5\n"
     ]
    }
   ],
   "source": [
    "liOne = []\n",
    "liTwo = []\n",
    "\n",
    "n = int(input(\"Enter size of lists : \"))\n",
    "\n",
    "print(\"Enter elements of first list : \")\n",
    "for i in range(0, n):\n",
    "    ele = int(input())\n",
    "    liOne.append(ele)\n",
    "\n",
    "print(\"Enter elements of second list : \")\n",
    "for i in range(0, n):\n",
    "    ele = int(input())\n",
    "    liTwo.append(ele)"
   ]
  },
  {
   "cell_type": "code",
   "execution_count": 24,
   "metadata": {},
   "outputs": [
    {
     "name": "stdout",
     "output_type": "stream",
     "text": [
      "[1, 2, 3, 4, 5]\n",
      "[1, 2, 3, 4, 5]\n"
     ]
    }
   ],
   "source": [
    "print(liOne)\n",
    "print(liTwo)"
   ]
  },
  {
   "cell_type": "code",
   "execution_count": 26,
   "metadata": {},
   "outputs": [
    {
     "name": "stdout",
     "output_type": "stream",
     "text": [
      "[1, 2, 3, 4, 5, 1, 2, 3, 4, 5]\n"
     ]
    }
   ],
   "source": [
    "#Concatenation\n",
    "liOne.extend(liTwo)\n",
    "print(str(liOne))"
   ]
  },
  {
   "cell_type": "code",
   "execution_count": 27,
   "metadata": {},
   "outputs": [
    {
     "name": "stdout",
     "output_type": "stream",
     "text": [
      "2\n",
      "4\n",
      "6\n",
      "8\n",
      "10\n"
     ]
    }
   ],
   "source": [
    "#Adding elements of two lists\n",
    "for i in range(0, n):\n",
    "    print(liOne[i] + liTwo[i])"
   ]
  },
  {
   "cell_type": "code",
   "execution_count": 28,
   "metadata": {},
   "outputs": [
    {
     "name": "stdout",
     "output_type": "stream",
     "text": [
      "Enter a size : 5\n",
      "4\n",
      "1\n",
      "6\n",
      "3\n",
      "2\n",
      "Sorted list is :\n",
      "[1, 2, 3, 4, 6]\n"
     ]
    }
   ],
   "source": [
    "#Sorting\n",
    "unsorted = []\n",
    "\n",
    "n = int(input(\"Enter a size : \"))\n",
    "\n",
    "for i in range(0,n):\n",
    "    ele = int(input())\n",
    "    unsorted.append(ele)\n",
    "    \n",
    "for i in range(0, len(unsorted)):\n",
    "    for j in range(i, len(unsorted)):\n",
    "        if unsorted[i] > unsorted[j]:\n",
    "            temp = unsorted[i]\n",
    "            unsorted[i] = unsorted[j]\n",
    "            unsorted[j] = temp\n",
    "\n",
    "            \n",
    "print(\"Sorted list is :\")\n",
    "print(str(unsorted))"
   ]
  },
  {
   "cell_type": "markdown",
   "metadata": {},
   "source": [
    "## Mean, Median and Mode"
   ]
  },
  {
   "cell_type": "code",
   "execution_count": 31,
   "metadata": {},
   "outputs": [
    {
     "name": "stdout",
     "output_type": "stream",
     "text": [
      "Enter size of list : 5\n",
      "Enter list elements : \n",
      "12.5\n",
      "24.5\n",
      "120.1\n",
      "50.2\n",
      "43.2\n",
      "[12.5, 24.5, 120.1, 50.2, 43.2]\n"
     ]
    }
   ],
   "source": [
    "li = []\n",
    "\n",
    "n = int(input(\"Enter size of list : \"))\n",
    "\n",
    "print(\"Enter list elements : \")\n",
    "for i in range(0, n):\n",
    "    ele = float(input())\n",
    "    \n",
    "    li.append(ele)\n",
    "\n",
    "print(str(li))"
   ]
  },
  {
   "cell_type": "code",
   "execution_count": 32,
   "metadata": {},
   "outputs": [
    {
     "name": "stdout",
     "output_type": "stream",
     "text": [
      "Mean is : 50.1\n"
     ]
    }
   ],
   "source": [
    "#Mean\n",
    "\n",
    "mean = sum(li)/len(li)\n",
    "print(\"Mean is :\", mean)"
   ]
  },
  {
   "cell_type": "code",
   "execution_count": 33,
   "metadata": {},
   "outputs": [
    {
     "name": "stdout",
     "output_type": "stream",
     "text": [
      "Median is : 33.0\n"
     ]
    }
   ],
   "source": [
    "#Median\n",
    "median = 0.0\n",
    "\n",
    "l = len(li)\n",
    "idx = (l - 1) // 2\n",
    "\n",
    "sortedLi = sorted(li)\n",
    "if l%2 == 0:\n",
    "    median = sortedLi[idx]\n",
    "else :\n",
    "    median = (sortedLi[idx] + sortedLi[idx-1]) // 2\n",
    "\n",
    "print(\"Median is :\",median)"
   ]
  },
  {
   "cell_type": "code",
   "execution_count": 35,
   "metadata": {},
   "outputs": [
    {
     "name": "stdout",
     "output_type": "stream",
     "text": [
      "Mode is : 12.5\n"
     ]
    }
   ],
   "source": [
    "#Mode\n",
    "freq = {}\n",
    "mode = 0\n",
    "most = 0\n",
    "\n",
    "for i in range(0, len(li)):\n",
    "    if li[i] not in freq:\n",
    "        freq[li[i]] = 1\n",
    "    else: \n",
    "        freq[li[i]] += 1\n",
    "    if most < freq[li[i]]:\n",
    "        most = freq[li[i]]\n",
    "        mode = li[i]\n",
    "\n",
    "print(\"Mode is :\", mode)"
   ]
  },
  {
   "cell_type": "markdown",
   "metadata": {},
   "source": [
    "## Standard deviation and variance"
   ]
  },
  {
   "cell_type": "code",
   "execution_count": 37,
   "metadata": {},
   "outputs": [
    {
     "name": "stdout",
     "output_type": "stream",
     "text": [
      "Variance is : 1403.3480000000002\n",
      "Standar deviation is 701.6740000000001\n"
     ]
    }
   ],
   "source": [
    "sos = []\n",
    "\n",
    "for i in range(0,len(li)):\n",
    "    sos.append((li[i] - mean)**2)\n",
    "\n",
    "var = sum(sos)/len(li)\n",
    "sd = var ** 1/2\n",
    "\n",
    "print(\"Variance is :\",var)\n",
    "print(\"Standar deviation is\",sd)"
   ]
  },
  {
   "cell_type": "markdown",
   "metadata": {},
   "source": [
    "## Standardization"
   ]
  },
  {
   "cell_type": "code",
   "execution_count": 39,
   "metadata": {},
   "outputs": [
    {
     "data": {
      "text/plain": [
       "[12.428599321052227,\n",
       " 24.428599321052225,\n",
       " 120.02859932105223,\n",
       " 50.12859932105223,\n",
       " 43.12859932105223]"
      ]
     },
     "execution_count": 39,
     "metadata": {},
     "output_type": "execute_result"
    }
   ],
   "source": [
    "standardizedList = []\n",
    "\n",
    "for i in range(0,len(li)):\n",
    "    standardizedList.append((li[i] - mean / sd))\n",
    "\n",
    "standardizedList"
   ]
  },
  {
   "cell_type": "markdown",
   "metadata": {},
   "source": [
    "## Min-max Normalization"
   ]
  },
  {
   "cell_type": "code",
   "execution_count": 40,
   "metadata": {},
   "outputs": [
    {
     "data": {
      "text/plain": [
       "[0.0, 0.11152416356877325, 1.0, 0.35037174721189596, 0.2853159851301116]"
      ]
     },
     "execution_count": 40,
     "metadata": {},
     "output_type": "execute_result"
    }
   ],
   "source": [
    "normalizedList = []\n",
    "mi = min(li)\n",
    "ma = max(li)\n",
    "\n",
    "for i in range(0,len(li)):\n",
    "    normalizedList.append((li[i] - mi)/ (ma - mi))\n",
    "\n",
    "normalizedList"
   ]
  }
 ],
 "metadata": {
  "kernelspec": {
   "display_name": "Python 3",
   "language": "python",
   "name": "python3"
  },
  "language_info": {
   "codemirror_mode": {
    "name": "ipython",
    "version": 3
   },
   "file_extension": ".py",
   "mimetype": "text/x-python",
   "name": "python",
   "nbconvert_exporter": "python",
   "pygments_lexer": "ipython3",
   "version": "3.7.4"
  }
 },
 "nbformat": 4,
 "nbformat_minor": 2
}
